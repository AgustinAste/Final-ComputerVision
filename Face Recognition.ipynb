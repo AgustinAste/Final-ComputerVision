{
 "cells": [
  {
   "cell_type": "code",
   "execution_count": null,
   "metadata": {
    "id": "z-JwzsV3x8Yr"
   },
   "outputs": [],
   "source": [
    "#@title \n",
    "from google.colab import drive\n",
    "drive.mount('/content/drive')"
   ]
  },
  {
   "cell_type": "code",
   "execution_count": null,
   "metadata": {
    "id": "UZdQGl5py5EL"
   },
   "outputs": [],
   "source": [
    "%cd /content/drive/MyDrive/computer-vision-um/cv-um-2021/trabajo-final/"
   ]
  },
  {
   "cell_type": "markdown",
   "metadata": {
    "id": "QYz6RPmCyGdX"
   },
   "source": [
    "\n",
    "# Ejercicio 2.2: Face Recognition\n",
    "\n",
    "Tal como se explica en la letra del obligatorio final en este ejercicio es necesario implementar una solucion para reconocimiento de facial. Se proveen datos de entrenamiento y es necesario entrenar un clasificador para hacer el reconocimiento. Todo el código necesario para comenzar a trabajar está provisto en este notebook.\n",
    "\n",
    "\n",
    "\\**En los ejercicios del trabajo final es posible utilizar funciones de librerias existentes o código sacado de internet. Siempre y cuando **no se usen para resolver explicitamente lo que pide el ejercicio** y al código sacado de interenet le agreguen el link en comentarios de donde fue sacado ese código.*\n",
    "\n"
   ]
  },
  {
   "cell_type": "code",
   "execution_count": 203,
   "metadata": {
    "id": "RELk0NVIptA4"
   },
   "outputs": [],
   "source": [
    "import cv2 \n",
    "import numpy as np\n",
    "import os\n",
    "import sklearn \n",
    "import sklearn.neighbors\n",
    "import matplotlib.pyplot as plt\n",
    "import pickle\n",
    "import sys\n",
    "import scipy.io\n",
    "from skimage.feature import hog\n",
    "from sklearn.model_selection import RandomizedSearchCV, GridSearchCV, train_test_split"
   ]
  },
  {
   "cell_type": "markdown",
   "metadata": {
    "id": "3JXhv8jYptA8"
   },
   "source": [
    "\n",
    "\n",
    "### Cargar Datos de Entrenamiento y Validación\n"
   ]
  },
  {
   "cell_type": "code",
   "execution_count": 94,
   "metadata": {
    "id": "UrRc4YGHptA9"
   },
   "outputs": [],
   "source": [
    "data_dir='./data'\n",
    "face_recognition_dir = os.path.join(data_dir, 'face_recognition')\n",
    "training_data_file = os.path.join(face_recognition_dir, 'face_recognition_data_tr.mat')\n",
    "validation_data_file = os.path.join(face_recognition_dir, 'face_recognition_data_va.mat')"
   ]
  },
  {
   "cell_type": "code",
   "execution_count": 95,
   "metadata": {
    "id": "m3dmVXAFptA-"
   },
   "outputs": [],
   "source": [
    "training_data_mat = scipy.io.loadmat(training_data_file)\n",
    "validation_data_mat = scipy.io.loadmat(validation_data_file)"
   ]
  },
  {
   "cell_type": "code",
   "execution_count": 96,
   "metadata": {
    "id": "NptLYA8sptA-"
   },
   "outputs": [],
   "source": [
    "training_data=training_data_mat['tr_img_sample']\n",
    "validation_data = validation_data_mat['va_img_sample']"
   ]
  },
  {
   "cell_type": "markdown",
   "metadata": {
    "id": "h_pUK1Nhz1eE"
   },
   "source": [
    "### Esqueleto de funciones para extracción de Features"
   ]
  },
  {
   "cell_type": "code",
   "execution_count": 97,
   "metadata": {},
   "outputs": [],
   "source": [
    "# import the necessary packages\n",
    "from skimage import feature\n",
    "import numpy as np\n",
    "class LocalBinaryPatterns:\n",
    "\tdef __init__(self, numPoints, radius):\n",
    "\t\tself.numPoints = numPoints\n",
    "\t\tself.radius = radius\n",
    "\tdef describe(self, image, eps=1e-7):\n",
    "\t\tlbp = feature.local_binary_pattern(image, self.numPoints,\n",
    "\t\t\tself.radius, method=\"uniform\")\n",
    "\t\t(hist, _) = np.histogram(lbp.ravel(),\n",
    "\t\t\tbins=np.arange(0, self.numPoints + 3),\n",
    "\t\t\trange=(0, self.numPoints + 2))\n",
    "\t\thist = hist.astype(\"float\")\n",
    "\t\thist /= (hist.sum() + eps)\n",
    "\t\treturn hist"
   ]
  },
  {
   "cell_type": "code",
   "execution_count": 183,
   "metadata": {},
   "outputs": [],
   "source": [
    "# initialize the local binary patterns descriptor along with\n",
    "# the data and label lists\n",
    "desc = LocalBinaryPatterns(30, 10)\n",
    "data = []\n",
    "labels = []"
   ]
  },
  {
   "cell_type": "markdown",
   "metadata": {
    "id": "KHCBXMJAptA_"
   },
   "source": [
    "### Armar los datos de entrenamiento y sus etiquetas"
   ]
  },
  {
   "cell_type": "code",
   "execution_count": 184,
   "metadata": {
    "id": "VJI80Tk8ptA_"
   },
   "outputs": [],
   "source": [
    "training_images = []\n",
    "training_labels = []\n",
    "for training_image in training_data:\n",
    "    image = (training_image[0]/255)\n",
    "    label = training_image[2]\n",
    "    training_images.append(image.reshape(64*64))\n",
    "    training_labels.append(label.reshape(1))\n",
    "\n",
    "training_images = np.asarray(training_images)\n",
    "training_labels = np.asarray(training_labels)\n",
    "training_labels = training_labels.reshape(training_labels.shape[0])"
   ]
  },
  {
   "cell_type": "code",
   "execution_count": 186,
   "metadata": {
    "id": "OxXEG1AyptBA"
   },
   "outputs": [
    {
     "data": {
      "text/plain": [
       "(368,)"
      ]
     },
     "execution_count": 186,
     "metadata": {},
     "output_type": "execute_result"
    }
   ],
   "source": [
    "training_labels.shape"
   ]
  },
  {
   "cell_type": "markdown",
   "metadata": {
    "id": "PIhGAwPrptBB"
   },
   "source": [
    "### Construir datos de validación y sus etiquetas\n"
   ]
  },
  {
   "cell_type": "code",
   "execution_count": 187,
   "metadata": {
    "id": "0HSgLxEtptBC"
   },
   "outputs": [],
   "source": [
    "validation_images = []\n",
    "validation_labels = []\n",
    "validation_names = []\n",
    "for validation_image in validation_data:\n",
    "    image = (validation_image[0]/255)\n",
    "    label = validation_image[2] \n",
    "    name = validation_image[1][0].split('.')[0]\n",
    "    validation_images.append(image.reshape(64*64))\n",
    "    validation_labels.append(label.reshape(1))\n",
    "    validation_names.append(name)\n",
    "\n",
    "validation_images = np.asarray(validation_images)\n",
    "validation_labels = np.asarray(validation_labels)\n",
    "validation_labels = validation_labels.reshape(validation_labels.shape[0])"
   ]
  },
  {
   "cell_type": "code",
   "execution_count": 223,
   "metadata": {},
   "outputs": [],
   "source": [
    "def extract_hog_features(img, resize_size=(64,64)):\n",
    "    resized_image = cv2.resize(img,resize_size)\n",
    "    image_representation = resized_image.reshape(resize_size[0]*resize_size[1])\n",
    "    fd, hog_image = hog(resized_image, orientations=9, pixels_per_cell=(8, 8),\n",
    "                \tcells_per_block=(2, 2), visualize=True, multichannel=True)\n",
    "    return hog_image"
   ]
  },
  {
   "cell_type": "code",
   "execution_count": 228,
   "metadata": {},
   "outputs": [],
   "source": [
    "val_data = [desc.describe(image[0]) for image in validation_data]\n",
    "# val_data_hog = [extract_hog_features(image[0]) for image in validation_data]"
   ]
  },
  {
   "cell_type": "code",
   "execution_count": 215,
   "metadata": {},
   "outputs": [
    {
     "name": "stdout",
     "output_type": "stream",
     "text": [
      "0.1467974824139208 {'C': 200, 'kernel': 'rbf', 'probability': True}\n"
     ]
    }
   ],
   "source": [
    "grid = GridSearchCV(sklearn.svm.SVC(), {'C': [1, 5, 10, 30, 50, 100, 200], 'kernel': ['linear', 'rbf', 'sigmoid'], 'probability':[True]})\n",
    "grid.fit(data, training_labels)\n",
    "print(grid.best_score_, grid.best_params_)\n",
    "\n",
    "model = grid.best_estimator_\n",
    "\n"
   ]
  },
  {
   "cell_type": "code",
   "execution_count": 190,
   "metadata": {
    "id": "5L0nJy0aptBC"
   },
   "outputs": [],
   "source": [
    "# knn_classifier = sklearn.neighbors.KNeighborsClassifier(n_neighbors=3,algorithm='brute')\n",
    "# knn_classifier.fit(training_images,training_labels)"
   ]
  },
  {
   "cell_type": "markdown",
   "metadata": {
    "id": "nBAS3HxCptBD"
   },
   "source": [
    "#### Guardar Modelo Entrenado"
   ]
  },
  {
   "cell_type": "code",
   "execution_count": 216,
   "metadata": {
    "id": "GrdVFBTBptBD"
   },
   "outputs": [],
   "source": [
    "pickle.dump(model,open('./face_recogition', 'wb'))"
   ]
  },
  {
   "cell_type": "markdown",
   "metadata": {
    "id": "7QyAHVHKptBE"
   },
   "source": [
    "#### Cargar modelo"
   ]
  },
  {
   "cell_type": "code",
   "execution_count": 217,
   "metadata": {
    "id": "cjzBPFu3ptBE"
   },
   "outputs": [],
   "source": [
    "classifier = pickle.load(open('./face_recogition','rb'))"
   ]
  },
  {
   "cell_type": "markdown",
   "metadata": {
    "id": "4N071KXqptBE"
   },
   "source": [
    "### Clasificar los datos de validación\n"
   ]
  },
  {
   "cell_type": "code",
   "execution_count": 193,
   "metadata": {
    "id": "BZiwMoeqptBE"
   },
   "outputs": [],
   "source": [
    "# labels = classifier.predict(validation_images)\n",
    "# ## Get score for each sliding window patch\n",
    "# scores = classifier.predict_proba(validation_images)"
   ]
  },
  {
   "cell_type": "code",
   "execution_count": 218,
   "metadata": {},
   "outputs": [],
   "source": [
    "labels = classifier.predict(val_data)\n",
    "## Get score for each sliding window patch\n",
    "scores = classifier.predict_proba(val_data)"
   ]
  },
  {
   "cell_type": "markdown",
   "metadata": {
    "id": "IHfEzPlcptBF"
   },
   "source": [
    "###  Evaluar modelo de Reconocimento"
   ]
  },
  {
   "cell_type": "code",
   "execution_count": 219,
   "metadata": {
    "id": "i5opEc6JptBF"
   },
   "outputs": [],
   "source": [
    "acc = np.mean(labels==validation_labels)*100"
   ]
  },
  {
   "cell_type": "code",
   "execution_count": 220,
   "metadata": {
    "id": "JrREv9-0ptBF"
   },
   "outputs": [
    {
     "name": "stdout",
     "output_type": "stream",
     "text": [
      "The accuracy of face recognition is:21.62 \n",
      "\n"
     ]
    }
   ],
   "source": [
    "print('The accuracy of face recognition is:%.2f \\n' % acc)\n"
   ]
  },
  {
   "cell_type": "markdown",
   "metadata": {
    "id": "g5_H9zrDptBF"
   },
   "source": [
    "### Visualize Recognition ###"
   ]
  },
  {
   "cell_type": "code",
   "execution_count": 197,
   "metadata": {
    "id": "SSW6M4WpptBG",
    "scrolled": true
   },
   "outputs": [
    {
     "data": {
      "image/png": "[encoded data removed]",
      "text/plain": [
       "<Figure size 432x288 with 1 Axes>"
      ]
     },
     "metadata": {
      "needs_background": "light"
     },
     "output_type": "display_data"
    },
    {
     "data": {
      "image/png": "[encoded data removed]",
      "text/plain": [
       "<Figure size 432x288 with 1 Axes>"
      ]
     },
     "metadata": {
      "needs_background": "light"
     },
     "output_type": "display_data"
    },
    {
     "data": {
      "image/png": "[encoded data removed]",
      "text/plain": [
       "<Figure size 432x288 with 1 Axes>"
      ]
     },
     "metadata": {
      "needs_background": "light"
     },
     "output_type": "display_data"
    },
    {
     "data": {
      "image/png": "[encoded data removed]",
      "text/plain": [
       "<Figure size 432x288 with 1 Axes>"
      ]
     },
     "metadata": {
      "needs_background": "light"
     },
     "output_type": "display_data"
    },
    {
     "data": {
      "image/png": "[encoded data removed]",
      "text/plain": [
       "<Figure size 432x288 with 1 Axes>"
      ]
     },
     "metadata": {
      "needs_background": "light"
     },
     "output_type": "display_data"
    }
   ],
   "source": [
    "indexes = [13,50,77,18,110] # You can use Random Sample\n",
    "for index in indexes:\n",
    "    predicted_label=labels[index]\n",
    "    real_label = validation_labels[index]\n",
    "\n",
    "    pred_name = validation_names[np.nonzero(validation_labels==predicted_label)[0][0]]\n",
    "    real_name = validation_names[np.nonzero(validation_labels==real_label)[0][0]]\n",
    "    if real_label==predicted_label:\n",
    "        text='TRUE'\n",
    "        color='g'\n",
    "    else:\n",
    "        text='FALSE'\n",
    "        color='r'\n",
    "    font = {'family': 'serif',\n",
    "            'color':  color,\n",
    "            'weight': 'normal',\n",
    "            'size': 16,\n",
    "            }    \n",
    "    plt.imshow(validation_images[index].reshape(64,64), cmap='gray')\n",
    "    plt.axis('off')\n",
    "    plt.title(text, fontdict=font)\n",
    "    sub_font = {'family': 'serif',\n",
    "            'weight': 'normal',\n",
    "            'size': 14,\n",
    "            }    \n",
    "    plt.text(0.5, 75, 'Pred: {} \\nReal: {}'.format(pred_name[:-5],real_name[:-5]), fontdict=sub_font)\n",
    "\n",
    "    plt.show()\n"
   ]
  },
  {
   "cell_type": "code",
   "execution_count": null,
   "metadata": {
    "id": "GTdCXcw5zE5k"
   },
   "outputs": [],
   "source": []
  }
 ],
 "metadata": {
  "colab": {
   "collapsed_sections": [
    "h_pUK1Nhz1eE"
   ],
   "name": "Face Recognition.ipynb",
   "provenance": []
  },
  "kernelspec": {
   "display_name": "Python 3",
   "language": "python",
   "name": "python3"
  },
  "language_info": {
   "codemirror_mode": {
    "name": "ipython",
    "version": 3
   },
   "file_extension": ".py",
   "mimetype": "text/x-python",
   "name": "python",
   "nbconvert_exporter": "python",
   "pygments_lexer": "ipython3",
   "version": "3.8.5"
  }
 },
 "nbformat": 4,
 "nbformat_minor": 1
}